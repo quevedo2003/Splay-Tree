{
 "cells": [
  {
   "cell_type": "code",
   "execution_count": 1,
   "id": "df9c2844",
   "metadata": {},
   "outputs": [],
   "source": [
    "import pandas as pd"
   ]
  },
  {
   "cell_type": "code",
   "execution_count": 12,
   "id": "0e107fce",
   "metadata": {},
   "outputs": [
    {
     "data": {
      "text/plain": [
       "'https://raw.githubusercontent.com/uricsc/212-Deliverables/main/Labs/Lab%2009%20Sets%20%26%20Maps/scaffolding/confirmed_cases.txt'"
      ]
     },
     "execution_count": 12,
     "metadata": {},
     "output_type": "execute_result"
    }
   ],
   "source": [
    "cases_url = 'https://raw.githubusercontent.com/uricsc/212-Deliverables/main/Labs/Lab%2009%20Sets%20%26%20Maps/scaffolding/confirmed_cases.txt'\n",
    "cases_url"
   ]
  },
  {
   "cell_type": "code",
   "execution_count": 13,
   "id": "9e0ef9af",
   "metadata": {},
   "outputs": [],
   "source": [
    "cases_df = pd.read_csv(cases_url)"
   ]
  },
  {
   "cell_type": "code",
   "execution_count": 20,
   "id": "9ad4e5c7",
   "metadata": {},
   "outputs": [
    {
     "data": {
      "text/plain": [
       "'Province_State'"
      ]
     },
     "execution_count": 20,
     "metadata": {},
     "output_type": "execute_result"
    }
   ],
   "source": [
    "cases_df.columns[2]"
   ]
  },
  {
   "cell_type": "code",
   "execution_count": 22,
   "id": "20b17e4a",
   "metadata": {},
   "outputs": [
    {
     "data": {
      "text/plain": [
       "'Country_Region'"
      ]
     },
     "execution_count": 22,
     "metadata": {},
     "output_type": "execute_result"
    }
   ],
   "source": [
    "cases_df.columns[3]"
   ]
  },
  {
   "cell_type": "code",
   "execution_count": 19,
   "id": "ddd34cbf",
   "metadata": {},
   "outputs": [
    {
     "data": {
      "text/plain": [
       "'Confirmed'"
      ]
     },
     "execution_count": 19,
     "metadata": {},
     "output_type": "execute_result"
    }
   ],
   "source": [
    "cases_df.columns[7]"
   ]
  },
  {
   "cell_type": "code",
   "execution_count": 26,
   "id": "8eea744d",
   "metadata": {},
   "outputs": [
    {
     "data": {
      "text/html": [
       "<div>\n",
       "<style scoped>\n",
       "    .dataframe tbody tr th:only-of-type {\n",
       "        vertical-align: middle;\n",
       "    }\n",
       "\n",
       "    .dataframe tbody tr th {\n",
       "        vertical-align: top;\n",
       "    }\n",
       "\n",
       "    .dataframe thead th {\n",
       "        text-align: right;\n",
       "    }\n",
       "</style>\n",
       "<table border=\"1\" class=\"dataframe\">\n",
       "  <thead>\n",
       "    <tr style=\"text-align: right;\">\n",
       "      <th></th>\n",
       "      <th>FIPS</th>\n",
       "      <th>Admin2</th>\n",
       "      <th>Province_State</th>\n",
       "      <th>Country_Region</th>\n",
       "      <th>Last_Update</th>\n",
       "      <th>Lat</th>\n",
       "      <th>Long_</th>\n",
       "      <th>Confirmed</th>\n",
       "      <th>Deaths</th>\n",
       "      <th>Recovered</th>\n",
       "      <th>Active</th>\n",
       "      <th>Combined_Key</th>\n",
       "      <th>Incidence_Rate</th>\n",
       "      <th>Case-Fatality_Ratio</th>\n",
       "    </tr>\n",
       "  </thead>\n",
       "  <tbody>\n",
       "    <tr>\n",
       "      <th>0</th>\n",
       "      <td>NaN</td>\n",
       "      <td>NaN</td>\n",
       "      <td>NaN</td>\n",
       "      <td>Afghanistan</td>\n",
       "      <td>2020-10-27 04:24:45</td>\n",
       "      <td>33.93911</td>\n",
       "      <td>67.709953</td>\n",
       "      <td>40937</td>\n",
       "      <td>1518</td>\n",
       "      <td>34150</td>\n",
       "      <td>5269.0</td>\n",
       "      <td>Afghanistan</td>\n",
       "      <td>105.159889</td>\n",
       "      <td>3.708137</td>\n",
       "    </tr>\n",
       "    <tr>\n",
       "      <th>1</th>\n",
       "      <td>NaN</td>\n",
       "      <td>NaN</td>\n",
       "      <td>NaN</td>\n",
       "      <td>Albania</td>\n",
       "      <td>2020-10-27 04:24:45</td>\n",
       "      <td>41.15330</td>\n",
       "      <td>20.168300</td>\n",
       "      <td>19445</td>\n",
       "      <td>480</td>\n",
       "      <td>10705</td>\n",
       "      <td>8260.0</td>\n",
       "      <td>Albania</td>\n",
       "      <td>675.689763</td>\n",
       "      <td>2.468501</td>\n",
       "    </tr>\n",
       "    <tr>\n",
       "      <th>2</th>\n",
       "      <td>NaN</td>\n",
       "      <td>NaN</td>\n",
       "      <td>NaN</td>\n",
       "      <td>Algeria</td>\n",
       "      <td>2020-10-27 04:24:45</td>\n",
       "      <td>28.03390</td>\n",
       "      <td>1.659600</td>\n",
       "      <td>56419</td>\n",
       "      <td>1922</td>\n",
       "      <td>39273</td>\n",
       "      <td>15224.0</td>\n",
       "      <td>Algeria</td>\n",
       "      <td>128.660566</td>\n",
       "      <td>3.406654</td>\n",
       "    </tr>\n",
       "    <tr>\n",
       "      <th>3</th>\n",
       "      <td>NaN</td>\n",
       "      <td>NaN</td>\n",
       "      <td>NaN</td>\n",
       "      <td>Andorra</td>\n",
       "      <td>2020-10-27 04:24:45</td>\n",
       "      <td>42.50630</td>\n",
       "      <td>1.521800</td>\n",
       "      <td>4325</td>\n",
       "      <td>72</td>\n",
       "      <td>2957</td>\n",
       "      <td>1296.0</td>\n",
       "      <td>Andorra</td>\n",
       "      <td>5597.618585</td>\n",
       "      <td>1.664740</td>\n",
       "    </tr>\n",
       "    <tr>\n",
       "      <th>4</th>\n",
       "      <td>NaN</td>\n",
       "      <td>NaN</td>\n",
       "      <td>NaN</td>\n",
       "      <td>Angola</td>\n",
       "      <td>2020-10-27 04:24:45</td>\n",
       "      <td>-11.20270</td>\n",
       "      <td>17.873900</td>\n",
       "      <td>9644</td>\n",
       "      <td>270</td>\n",
       "      <td>3530</td>\n",
       "      <td>5844.0</td>\n",
       "      <td>Angola</td>\n",
       "      <td>29.343155</td>\n",
       "      <td>2.799668</td>\n",
       "    </tr>\n",
       "    <tr>\n",
       "      <th>5</th>\n",
       "      <td>NaN</td>\n",
       "      <td>NaN</td>\n",
       "      <td>NaN</td>\n",
       "      <td>Antigua and Barbuda</td>\n",
       "      <td>2020-10-27 04:24:45</td>\n",
       "      <td>17.06080</td>\n",
       "      <td>-61.796400</td>\n",
       "      <td>124</td>\n",
       "      <td>3</td>\n",
       "      <td>108</td>\n",
       "      <td>13.0</td>\n",
       "      <td>Antigua and Barbuda</td>\n",
       "      <td>126.623642</td>\n",
       "      <td>2.419355</td>\n",
       "    </tr>\n",
       "    <tr>\n",
       "      <th>6</th>\n",
       "      <td>NaN</td>\n",
       "      <td>NaN</td>\n",
       "      <td>NaN</td>\n",
       "      <td>Argentina</td>\n",
       "      <td>2020-10-27 04:24:45</td>\n",
       "      <td>-38.41610</td>\n",
       "      <td>-63.616700</td>\n",
       "      <td>1102301</td>\n",
       "      <td>29301</td>\n",
       "      <td>909586</td>\n",
       "      <td>163414.0</td>\n",
       "      <td>Argentina</td>\n",
       "      <td>2438.946895</td>\n",
       "      <td>2.658167</td>\n",
       "    </tr>\n",
       "    <tr>\n",
       "      <th>7</th>\n",
       "      <td>NaN</td>\n",
       "      <td>NaN</td>\n",
       "      <td>NaN</td>\n",
       "      <td>Armenia</td>\n",
       "      <td>2020-10-27 04:24:45</td>\n",
       "      <td>40.06910</td>\n",
       "      <td>45.038200</td>\n",
       "      <td>78810</td>\n",
       "      <td>1196</td>\n",
       "      <td>51162</td>\n",
       "      <td>26452.0</td>\n",
       "      <td>Armenia</td>\n",
       "      <td>2659.594214</td>\n",
       "      <td>1.517574</td>\n",
       "    </tr>\n",
       "    <tr>\n",
       "      <th>8</th>\n",
       "      <td>NaN</td>\n",
       "      <td>NaN</td>\n",
       "      <td>Australian Capital Territory</td>\n",
       "      <td>Australia</td>\n",
       "      <td>2020-10-27 04:24:45</td>\n",
       "      <td>-35.47350</td>\n",
       "      <td>149.012400</td>\n",
       "      <td>114</td>\n",
       "      <td>3</td>\n",
       "      <td>110</td>\n",
       "      <td>1.0</td>\n",
       "      <td>Australian Capital Territory, Australia</td>\n",
       "      <td>26.629292</td>\n",
       "      <td>2.631579</td>\n",
       "    </tr>\n",
       "    <tr>\n",
       "      <th>9</th>\n",
       "      <td>NaN</td>\n",
       "      <td>NaN</td>\n",
       "      <td>New South Wales</td>\n",
       "      <td>Australia</td>\n",
       "      <td>2020-10-27 04:24:45</td>\n",
       "      <td>-33.86880</td>\n",
       "      <td>151.209300</td>\n",
       "      <td>4398</td>\n",
       "      <td>53</td>\n",
       "      <td>3147</td>\n",
       "      <td>1198.0</td>\n",
       "      <td>New South Wales, Australia</td>\n",
       "      <td>54.175905</td>\n",
       "      <td>1.205093</td>\n",
       "    </tr>\n",
       "  </tbody>\n",
       "</table>\n",
       "</div>"
      ],
      "text/plain": [
       "   FIPS Admin2                Province_State       Country_Region  \\\n",
       "0   NaN    NaN                           NaN          Afghanistan   \n",
       "1   NaN    NaN                           NaN              Albania   \n",
       "2   NaN    NaN                           NaN              Algeria   \n",
       "3   NaN    NaN                           NaN              Andorra   \n",
       "4   NaN    NaN                           NaN               Angola   \n",
       "5   NaN    NaN                           NaN  Antigua and Barbuda   \n",
       "6   NaN    NaN                           NaN            Argentina   \n",
       "7   NaN    NaN                           NaN              Armenia   \n",
       "8   NaN    NaN  Australian Capital Territory            Australia   \n",
       "9   NaN    NaN               New South Wales            Australia   \n",
       "\n",
       "           Last_Update       Lat       Long_  Confirmed  Deaths  Recovered  \\\n",
       "0  2020-10-27 04:24:45  33.93911   67.709953      40937    1518      34150   \n",
       "1  2020-10-27 04:24:45  41.15330   20.168300      19445     480      10705   \n",
       "2  2020-10-27 04:24:45  28.03390    1.659600      56419    1922      39273   \n",
       "3  2020-10-27 04:24:45  42.50630    1.521800       4325      72       2957   \n",
       "4  2020-10-27 04:24:45 -11.20270   17.873900       9644     270       3530   \n",
       "5  2020-10-27 04:24:45  17.06080  -61.796400        124       3        108   \n",
       "6  2020-10-27 04:24:45 -38.41610  -63.616700    1102301   29301     909586   \n",
       "7  2020-10-27 04:24:45  40.06910   45.038200      78810    1196      51162   \n",
       "8  2020-10-27 04:24:45 -35.47350  149.012400        114       3        110   \n",
       "9  2020-10-27 04:24:45 -33.86880  151.209300       4398      53       3147   \n",
       "\n",
       "     Active                             Combined_Key  Incidence_Rate  \\\n",
       "0    5269.0                              Afghanistan      105.159889   \n",
       "1    8260.0                                  Albania      675.689763   \n",
       "2   15224.0                                  Algeria      128.660566   \n",
       "3    1296.0                                  Andorra     5597.618585   \n",
       "4    5844.0                                   Angola       29.343155   \n",
       "5      13.0                      Antigua and Barbuda      126.623642   \n",
       "6  163414.0                                Argentina     2438.946895   \n",
       "7   26452.0                                  Armenia     2659.594214   \n",
       "8       1.0  Australian Capital Territory, Australia       26.629292   \n",
       "9    1198.0               New South Wales, Australia       54.175905   \n",
       "\n",
       "   Case-Fatality_Ratio  \n",
       "0             3.708137  \n",
       "1             2.468501  \n",
       "2             3.406654  \n",
       "3             1.664740  \n",
       "4             2.799668  \n",
       "5             2.419355  \n",
       "6             2.658167  \n",
       "7             1.517574  \n",
       "8             2.631579  \n",
       "9             1.205093  "
      ]
     },
     "execution_count": 26,
     "metadata": {},
     "output_type": "execute_result"
    }
   ],
   "source": [
    "cases_df.head(10)"
   ]
  },
  {
   "cell_type": "code",
   "execution_count": null,
   "id": "3012b880",
   "metadata": {},
   "outputs": [],
   "source": []
  }
 ],
 "metadata": {
  "kernelspec": {
   "display_name": "Python 3 (ipykernel)",
   "language": "python",
   "name": "python3"
  },
  "language_info": {
   "codemirror_mode": {
    "name": "ipython",
    "version": 3
   },
   "file_extension": ".py",
   "mimetype": "text/x-python",
   "name": "python",
   "nbconvert_exporter": "python",
   "pygments_lexer": "ipython3",
   "version": "3.9.12"
  }
 },
 "nbformat": 4,
 "nbformat_minor": 5
}
